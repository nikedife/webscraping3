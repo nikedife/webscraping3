{
 "cells": [
  {
   "cell_type": "code",
   "execution_count": 47,
   "id": "33f3e5c9",
   "metadata": {},
   "outputs": [],
   "source": [
    "import pandas as pd\n",
    "import numpy as np\n",
    "import selenium\n",
    "from selenium import webdriver\n",
    "import warnings\n",
    "warnings.filterwarnings('ignore')\n",
    "from selenium.common.exceptions import StaleElementReferenceException,NoSuchElementException\n",
    "from selenium.webdriver.common.by import By\n",
    "from selenium.webdriver.common.keys import Keys"
   ]
  },
  {
   "cell_type": "markdown",
   "id": "d0fd61e6",
   "metadata": {},
   "source": [
    "# 1. Write a python program which searches all the product under a particular product from www.amazon.in.\n",
    "# The product to be searched will be taken as input from user. For e.g. If user input is ‘guitar’. Then search\n",
    "# for guitars."
   ]
  },
  {
   "cell_type": "code",
   "execution_count": 2,
   "id": "9cee52c2",
   "metadata": {},
   "outputs": [],
   "source": [
    "driver = webdriver.Chrome(r\"C:\\Users\\SONY\\Desktop\\chromedriver.exe\")"
   ]
  },
  {
   "cell_type": "code",
   "execution_count": 3,
   "id": "b5490226",
   "metadata": {},
   "outputs": [],
   "source": [
    "driver.get(\"http://www.amazon.in/\")\n"
   ]
  },
  {
   "cell_type": "code",
   "execution_count": 10,
   "id": "f099a9f5",
   "metadata": {},
   "outputs": [
    {
     "name": "stdout",
     "output_type": "stream",
     "text": [
      "Enter a product:guitar\n"
     ]
    }
   ],
   "source": [
    "user_input = input('Enter a product:')"
   ]
  },
  {
   "cell_type": "code",
   "execution_count": 11,
   "id": "d3ef4bc2",
   "metadata": {},
   "outputs": [],
   "source": [
    "product_search = driver.find_element(By.ID,\"twotabsearchtextbox\")\n",
    "product_search.send_keys(user_input)\n",
    "search = driver.find_element(By.ID,'nav-search-submit-button')\n",
    "search.click()"
   ]
  },
  {
   "cell_type": "markdown",
   "id": "7a0db7b0",
   "metadata": {},
   "source": [
    "# 2. In the above question, now scrape the following details of each product listed in first 3 pages of your\n",
    "#search results and save it in a data frame and csv. In case if any product has less than 3 pages in search\n",
    "#results then scrape all the products available under that product name. Details to be scraped are: \"Brand\n",
    "#Name\", \"Name of the Product\", \"Price\", \"Return/Exchange\", \"Expected Delivery\", \"Availability\" and\n",
    "#“Product URL”. In case, if any of the details are missing for any of the product then replace it by “-“."
   ]
  },
  {
   "cell_type": "code",
   "execution_count": null,
   "id": "e3b9f6f9",
   "metadata": {},
   "outputs": [],
   "source": [
    "brand_name = []\n",
    "name_of_product= []\n",
    "Price = []\n",
    "return_exchange = [] \n",
    "expected_delivery = [] \n",
    "availability = []\n",
    "product_url = []"
   ]
  },
  {
   "cell_type": "code",
   "execution_count": null,
   "id": "b5a6b5b9",
   "metadata": {},
   "outputs": [],
   "source": [
    "name_of_brand_tags=driver.find_elements(By.XPATH,\"//a[@class='title fw500 ellipsis']\")\n",
    "for i in name_of_product_tags[0:3]:\n",
    "    brand=i.text\n",
    "    brand_name.append(title)\n",
    "\n",
    "name_of_product_tags=driver.find_elements(By.XPATH,\"//a[@class='title fw500 ellipsis']\")\n",
    "for i in name_of_product_tags[0:3]:\n",
    "    product=i.text\n",
    "    name_of_product.append(product)\n",
    "    \n",
    "price_tags=driver.find_elements(By.XPATH,\"//a[@class='title fw500 ellipsis']\")\n",
    "for i in price_tags[0:3]:\n",
    "    price=i.text\n",
    "    Price.append(price)\n",
    "    \n",
    "return_exchange_tags=driver.find_elements(By.XPATH,\"//a[@class='title fw500 ellipsis']\")\n",
    "for i in return_exchange_tags[0:3]:\n",
    "    retur_exch=i.text\n",
    "    return_exchange.append(retur_exch)\n",
    "    \n",
    "expected_delivery_tags=driver.find_elements(By.XPATH,\"//a[@class='title fw500 ellipsis']\")\n",
    "for i in expected_delivery_tags[0:3]:\n",
    "    delivery=i.text\n",
    "    expected_delivery.append(delivery)\n",
    "    \n",
    "product_url_tags=driver.find_elements(By.XPATH,\"//a[@class='title fw500 ellipsis']\")\n",
    "for i in product_url[0:3]:\n",
    "    url=i.text\n",
    "    product_url.append(url)\n",
    "    \n",
    "availability_tags=driver.find_elements(By.XPATH,\"//a[@class='title fw500 ellipsis']\")\n",
    "for i in availability_tags[0:3]:\n",
    "    available=i.text\n",
    "    availability.append(available)    \n",
    "    \n",
    "    \n",
    "    "
   ]
  },
  {
   "cell_type": "markdown",
   "id": "5b2db7f7",
   "metadata": {},
   "source": [
    "# 3 Write a python program to access the search bar and search button on images.google.com and scrape 10\n",
    "# images each for keywords ‘fruits’, ‘cars’ and ‘Machine Learning’, ‘Guitar’, ‘Cakes’"
   ]
  },
  {
   "cell_type": "code",
   "execution_count": 52,
   "id": "b472db53",
   "metadata": {},
   "outputs": [],
   "source": [
    "driver = webdriver.Chrome(r\"C:\\Users\\SONY\\Desktop\\chromedriver.exe\")"
   ]
  },
  {
   "cell_type": "code",
   "execution_count": 53,
   "id": "b8d5d229",
   "metadata": {},
   "outputs": [],
   "source": [
    "driver.get(\"http://www.images.google.com/\")\n"
   ]
  },
  {
   "cell_type": "code",
   "execution_count": 54,
   "id": "43b84e21",
   "metadata": {},
   "outputs": [],
   "source": [
    "search_bar = driver.find_element(By.XPATH,\"/html/body/div[1]/div[3]/form/div[1]/div[1]/div[1]/div/div[2]/input\")\n",
    "search_bar.send_keys('fruits') \n",
    "search_bar.send_keys(Keys.RETURN)\n",
    "fruits = []\n",
    "\n",
    "fruit_tags=driver.find_elements(By.XPATH,\"/html/body/div[2]/c-wiz/div[3]/div[1]/div/div/div/div[1]/div[1]/span/div[1]/div[1]/div[1]/a[1]/div[1]/img\")\n",
    "for i in fruit_tags[0:10]:\n",
    "    fruit=i.text\n",
    "    fruit_tags.append(fruit) "
   ]
  },
  {
   "cell_type": "code",
   "execution_count": 63,
   "id": "6649811e",
   "metadata": {},
   "outputs": [],
   "source": [
    "driver = webdriver.Chrome(r\"C:\\Users\\SONY\\Desktop\\chromedriver.exe\")"
   ]
  },
  {
   "cell_type": "code",
   "execution_count": 64,
   "id": "bb285bcc",
   "metadata": {},
   "outputs": [],
   "source": [
    "driver.get(\"http://www.images.google.com/\")\n"
   ]
  },
  {
   "cell_type": "code",
   "execution_count": 65,
   "id": "70155ae4",
   "metadata": {},
   "outputs": [],
   "source": [
    "search_bar = driver.find_element(By.XPATH,\"/html/body/div[1]/div[3]/form/div[1]/div[1]/div[1]/div/div[2]/input\")\n",
    "search_bar.send_keys('cars') \n",
    "search_bar.send_keys(Keys.RETURN)\n",
    "cars = []\n",
    "\n",
    "cars_tags=driver.find_elements(By.XPATH,\"/html/body/div[2]/c-wiz/div[3]/div[1]/div/div/div/div[1]/div[1]/span/div[1]/div[1]/div[1]/a[1]/div[1]/img\")\n",
    "for i in cars_tags[0:10]:\n",
    "    car=i.text\n",
    "    cars.append(car) "
   ]
  },
  {
   "cell_type": "code",
   "execution_count": 66,
   "id": "25c10c79",
   "metadata": {},
   "outputs": [],
   "source": [
    "driver = webdriver.Chrome(r\"C:\\Users\\SONY\\Desktop\\chromedriver.exe\")"
   ]
  },
  {
   "cell_type": "code",
   "execution_count": 67,
   "id": "2026da30",
   "metadata": {},
   "outputs": [],
   "source": [
    "driver.get(\"http://www.images.google.com/\")\n"
   ]
  },
  {
   "cell_type": "code",
   "execution_count": 68,
   "id": "8f4957da",
   "metadata": {},
   "outputs": [],
   "source": [
    "search_bar = driver.find_element(By.XPATH,\"/html/body/div[1]/div[3]/form/div[1]/div[1]/div[1]/div/div[2]/input\")\n",
    "search_bar.send_keys('machine learning') \n",
    "search_bar.send_keys(Keys.RETURN)\n",
    "ml = []\n",
    "\n",
    "ml_tags=driver.find_elements(By.XPATH,\"/html/body/div[2]/c-wiz/div[3]/div[1]/div/div/div/div[1]/div[1]/span/div[1]/div[1]/div[1]/a[1]/div[1]/img\")\n",
    "for i in ml_tags[0:10]:\n",
    "    mlc=i.text\n",
    "    ml.append(mlc) "
   ]
  },
  {
   "cell_type": "code",
   "execution_count": 69,
   "id": "ddc92e4a",
   "metadata": {},
   "outputs": [],
   "source": [
    "driver = webdriver.Chrome(r\"C:\\Users\\SONY\\Desktop\\chromedriver.exe\")"
   ]
  },
  {
   "cell_type": "code",
   "execution_count": 70,
   "id": "cb4d78c5",
   "metadata": {},
   "outputs": [],
   "source": [
    "driver.get(\"http://www.images.google.com/\")\n"
   ]
  },
  {
   "cell_type": "code",
   "execution_count": 71,
   "id": "e5c1476b",
   "metadata": {},
   "outputs": [],
   "source": [
    "search_bar = driver.find_element(By.XPATH,\"/html/body/div[1]/div[3]/form/div[1]/div[1]/div[1]/div/div[2]/input\")\n",
    "search_bar.send_keys('guitar') \n",
    "search_bar.send_keys(Keys.RETURN)\n",
    "guitar = []\n",
    "\n",
    "guitar_tags=driver.find_elements(By.XPATH,\"/html/body/div[2]/c-wiz/div[3]/div[1]/div/div/div/div[1]/div[1]/span/div[1]/div[1]/div[1]/a[1]/div[1]/img\")\n",
    "for i in guitar_tags[0:10]:\n",
    "    guitarc=i.text\n",
    "    guitar.append(guitarc) "
   ]
  },
  {
   "cell_type": "code",
   "execution_count": 78,
   "id": "fc4203a3",
   "metadata": {},
   "outputs": [],
   "source": [
    "driver = webdriver.Chrome(r\"C:\\Users\\SONY\\Desktop\\chromedriver.exe\")"
   ]
  },
  {
   "cell_type": "code",
   "execution_count": 79,
   "id": "f354bd30",
   "metadata": {},
   "outputs": [],
   "source": [
    "driver.get(\"http://www.images.google.com/\")\n"
   ]
  },
  {
   "cell_type": "code",
   "execution_count": 80,
   "id": "aa37484c",
   "metadata": {},
   "outputs": [],
   "source": [
    "search_bar = driver.find_element(By.XPATH,\"/html/body/div[1]/div[3]/form/div[1]/div[1]/div[1]/div/div[2]/input\")\n",
    "search_bar.send_keys('cakes') \n",
    "search_bar.send_keys(Keys.RETURN)\n",
    "cakes = []\n",
    "\n",
    "cake_tags=driver.find_elements(By.XPATH,\"/html/body/div[2]/c-wiz/div[3]/div[1]/div/div/div/div[1]/div[1]/span/div[1]/div[1]/div[1]/a[1]/div[1]/img\")\n",
    "for i in cake_tags[0:10]:\n",
    "    cake=i.text\n",
    "    cakes.append(cake) "
   ]
  },
  {
   "cell_type": "code",
   "execution_count": 81,
   "id": "119c3598",
   "metadata": {},
   "outputs": [],
   "source": [
    "fruits = []\n",
    "cars = [] \n",
    "machine_learning = [] \n",
    "guitar = []\n",
    "cakes = []"
   ]
  },
  {
   "cell_type": "code",
   "execution_count": 82,
   "id": "52537617",
   "metadata": {},
   "outputs": [
    {
     "data": {
      "text/plain": [
       "[]"
      ]
     },
     "execution_count": 82,
     "metadata": {},
     "output_type": "execute_result"
    }
   ],
   "source": [
    "fruits"
   ]
  },
  {
   "cell_type": "code",
   "execution_count": null,
   "id": "d7c245a0",
   "metadata": {},
   "outputs": [],
   "source": []
  },
  {
   "cell_type": "code",
   "execution_count": null,
   "id": "ff04fefe",
   "metadata": {},
   "outputs": [],
   "source": []
  },
  {
   "cell_type": "code",
   "execution_count": null,
   "id": "3cff63c5",
   "metadata": {},
   "outputs": [],
   "source": []
  },
  {
   "cell_type": "code",
   "execution_count": null,
   "id": "3cba67bf",
   "metadata": {},
   "outputs": [],
   "source": []
  },
  {
   "cell_type": "code",
   "execution_count": null,
   "id": "0502a105",
   "metadata": {},
   "outputs": [],
   "source": []
  }
 ],
 "metadata": {
  "kernelspec": {
   "display_name": "Python 3 (ipykernel)",
   "language": "python",
   "name": "python3"
  },
  "language_info": {
   "codemirror_mode": {
    "name": "ipython",
    "version": 3
   },
   "file_extension": ".py",
   "mimetype": "text/x-python",
   "name": "python",
   "nbconvert_exporter": "python",
   "pygments_lexer": "ipython3",
   "version": "3.9.7"
  }
 },
 "nbformat": 4,
 "nbformat_minor": 5
}
